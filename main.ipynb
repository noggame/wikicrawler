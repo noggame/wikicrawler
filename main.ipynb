{
 "cells": [
  {
   "cell_type": "code",
   "execution_count": 1,
   "metadata": {},
   "outputs": [],
   "source": [
    "from modules.WikiCrawler import WikiCrawler"
   ]
  },
  {
   "cell_type": "code",
   "execution_count": 2,
   "metadata": {},
   "outputs": [
    {
     "name": "stdout",
     "output_type": "stream",
     "text": [
      "=통신_네트워크=\n",
      "통신 네트워크, 전기통신망(telecommunications network)은 단말 사용자들끼리 통신을 가능케 할 목적으로 연결해 놓은 단말, 링크, 노드의 집합이다. 전기통신망은 터미널 노드의 집합으로, 링크가 연결되어 터미널 간의 전기통신을 가능케 한다. 다수의 가입자에게 정보를 분배하기 위한 네트워크인 \"데이터 통신 네트워크\", 본래 통신망의 서브시스템으로서 고려했던 온라인 실시간의 컴퓨터 사용 통신망으로, 컴퓨터계의 리소스와 통신망으로의 인터페이스가 포함되는 \"통신 서브 네트워크\"가 있다. 망 교환은 회선 교환, 메시지 교환도 있다. 이용 형태는 전용, 타인 사용, 공동 사용 등이 있다.\n",
      "전기통신망의 예는 다음과 같다:\n",
      "-컴퓨터 네트워크\n",
      "-인터넷\n",
      "-전화망\n",
      "-글로벌 텔렉스 네트워크\n",
      "-항공 ACARS망\n",
      "같이 보기\n",
      "-컴퓨터 네트워크\n",
      "-인터넷\n",
      "-전화망\n",
      "-텔렉스\n",
      "-ACARS\n",
      "각주\n"
     ]
    }
   ],
   "source": [
    "keyword = \"통신_네트워크\"\n",
    "\n",
    "wc = WikiCrawler()\n",
    "raw = wc.get_content(keyword=keyword)"
   ]
  },
  {
   "cell_type": "code",
   "execution_count": null,
   "metadata": {},
   "outputs": [],
   "source": []
  }
 ],
 "metadata": {
  "kernelspec": {
   "display_name": "ptf",
   "language": "python",
   "name": "python3"
  },
  "language_info": {
   "codemirror_mode": {
    "name": "ipython",
    "version": 3
   },
   "file_extension": ".py",
   "mimetype": "text/x-python",
   "name": "python",
   "nbconvert_exporter": "python",
   "pygments_lexer": "ipython3",
   "version": "3.9.7"
  },
  "orig_nbformat": 4
 },
 "nbformat": 4,
 "nbformat_minor": 2
}
