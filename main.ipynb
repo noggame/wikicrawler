{
 "cells": [
  {
   "cell_type": "code",
   "execution_count": 1,
   "metadata": {},
   "outputs": [],
   "source": [
    "from modules.WikiCrawler import WikiCrawler"
   ]
  },
  {
   "cell_type": "code",
   "execution_count": null,
   "metadata": {},
   "outputs": [],
   "source": [
    "### Keyword\n",
    "keyword = \"인터넷\" # or wiki_url\n",
    "\n",
    "### Request\n",
    "wc = WikiCrawler()\n",
    "passageList = wc.get_passages_from(keyword=keyword)\n",
    "# passageList = wc.get_passages_from(url=\"https://wiki/keyword/url\")\n",
    "\n",
    "### Print\n",
    "wc.save_to_csv(passageList=passageList, filepath=\"./output.csv\")\n",
    "# print(*passageList, sep=\"\\n\")"
   ]
  }
 ],
 "metadata": {
  "kernelspec": {
   "display_name": "ptf",
   "language": "python",
   "name": "python3"
  },
  "language_info": {
   "codemirror_mode": {
    "name": "ipython",
    "version": 3
   },
   "file_extension": ".py",
   "mimetype": "text/x-python",
   "name": "python",
   "nbconvert_exporter": "python",
   "pygments_lexer": "ipython3",
   "version": "3.9.7"
  },
  "orig_nbformat": 4
 },
 "nbformat": 4,
 "nbformat_minor": 2
}
